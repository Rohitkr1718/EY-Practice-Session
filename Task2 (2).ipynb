{
 "cells": [
  {
   "cell_type": "code",
   "execution_count": 32,
   "metadata": {},
   "outputs": [],
   "source": [
    "list1 = [1, 4, -9, -5.2, 8.5, 10] \n",
    "list2 = [10,5,-3,2,0.5,1.3]\n",
    "list3 = ['+','*','-','*','/','+']\n",
    "oplist = []\n",
    "oplist2 = []"
   ]
  },
  {
   "cell_type": "code",
   "execution_count": 35,
   "metadata": {},
   "outputs": [
    {
     "data": {
      "text/plain": [
       "[(1, '+', 10),\n",
       " (4, '*', 5),\n",
       " (-9, '-', -3),\n",
       " (-5.2, '*', 2),\n",
       " (8.5, '/', 0.5),\n",
       " (10, '+', 1.3)]"
      ]
     },
     "execution_count": 35,
     "metadata": {},
     "output_type": "execute_result"
    }
   ],
   "source": [
    "\n",
    "outputlist = list(zip(list1,list3,list2))\n",
    "(outputlist)\n",
    "#list(zip(outputlist,list3))"
   ]
  },
  {
   "cell_type": "code",
   "execution_count": 33,
   "metadata": {},
   "outputs": [
    {
     "data": {
      "text/plain": [
       "[11, 20, -6, -10.4, 17.0, 11.3]"
      ]
     },
     "execution_count": 33,
     "metadata": {},
     "output_type": "execute_result"
    }
   ],
   "source": [
    "for i in range(len(list1)):\n",
    "    if list3[i] == '+':\n",
    "        oplist.append(list1[i]+list2[i])\n",
    "    elif list3[i] == '*':\n",
    "        oplist.append(list1[i]*list2[i])\n",
    "    elif list3[i] == '/':\n",
    "        oplist.append(list1[i]/list2[i])\n",
    "    elif list3[i] == '-':\n",
    "        oplist.append(list1[i]-list2[i])\n",
    "\n",
    "oplist\n",
    "    "
   ]
  },
  {
   "cell_type": "code",
   "execution_count": 34,
   "metadata": {},
   "outputs": [
    {
     "data": {
      "text/plain": [
       "['1+10', '4*5', '-9--3', '-5.2*2', '8.5/0.5', '10+1.3']"
      ]
     },
     "execution_count": 34,
     "metadata": {},
     "output_type": "execute_result"
    }
   ],
   "source": [
    "list1 = [1,4,-9,-5.2,8.5,10]\n",
    "list2 = [10,5,-3,2,0.5,1.3]\n",
    "list3 = ['+','*','-','*','/','+']\n",
    "output_list1 = []\n",
    "output_list2 = []\n",
    "for x in range(len(list1)):\n",
    "    data1 = list1[x]\n",
    "    data2 = list2[x]\n",
    "    data3 = list3[x]\n",
    "    f_data = \"{}{}{}\".format(data1,data3,data2)\n",
    "    output_list1.append(f_data)\n",
    "output_list1"
   ]
  },
  {
   "cell_type": "code",
   "execution_count": 47,
   "metadata": {},
   "outputs": [
    {
     "data": {
      "text/plain": [
       "{'a': 1000,\n",
       " 'b': 2200,\n",
       " 'c': 3000,\n",
       " 'd': 4300,\n",
       " 'e': 5000,\n",
       " 'f': 6100,\n",
       " 'g': 7100,\n",
       " 'h': 8600,\n",
       " 'i': 9500,\n",
       " 'j': 10100}"
      ]
     },
     "execution_count": 47,
     "metadata": {},
     "output_type": "execute_result"
    }
   ],
   "source": [
    "emp = ['a','b','c','d','e','f','g','h','i','j']\n",
    "sal = (1000,2000,3000,4000,5000,6000,7000,8000,9000,10000)\n",
    "rating = (2.3,4.7,4.3,9.9,6.4,8.1,4.0,8.8,9.3,3.3)\n",
    "\n",
    "dictEmp = {}\n",
    "\n",
    "for i in range(len(emp)):\n",
    "    if rating[i] > 0 and rating[i] <=3:\n",
    "        dictEmp[emp[i]] = sal[i]\n",
    "    elif rating[i] > 3 and rating[i] <=5:\n",
    "        dictEmp[emp[i]] = sal[i]+ (sal[i] % 3)*100\n",
    "    elif rating[i] > 5 and rating[i] <=7:\n",
    "        dictEmp[emp[i]] = sal[i]+ (sal[i] % 5)*100\n",
    "    elif rating[i] > 7 and rating[i] <=9:\n",
    "        dictEmp[emp[i]] = sal[i]+(sal[i] % 7)*100\n",
    "    elif rating[i] > 9:\n",
    "        dictEmp[emp[i]] = sal[i]+ ((sal[i] % 7)*100 + (sal[i] % 10)*100)\n",
    "\n",
    "dictEmp"
   ]
  },
  {
   "cell_type": "code",
   "execution_count": null,
   "metadata": {},
   "outputs": [],
   "source": []
  }
 ],
 "metadata": {
  "kernelspec": {
   "display_name": "Python 3",
   "language": "python",
   "name": "python3"
  },
  "language_info": {
   "codemirror_mode": {
    "name": "ipython",
    "version": 3
   },
   "file_extension": ".py",
   "mimetype": "text/x-python",
   "name": "python",
   "nbconvert_exporter": "python",
   "pygments_lexer": "ipython3",
   "version": "3.7.6"
  }
 },
 "nbformat": 4,
 "nbformat_minor": 4
}
