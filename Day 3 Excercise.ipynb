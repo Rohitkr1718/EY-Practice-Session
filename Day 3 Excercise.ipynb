{
 "cells": [
  {
   "cell_type": "code",
   "execution_count": 6,
   "metadata": {},
   "outputs": [
    {
     "data": {
      "text/plain": [
       "['1984', '13', '1000']"
      ]
     },
     "execution_count": 6,
     "metadata": {},
     "output_type": "execute_result"
    }
   ],
   "source": [
    "list1 = []\n",
    "def getNumber(text):\n",
    "    #l1 = list(text)\n",
    "    for i in text.split():\n",
    "        if i.isdigit():\n",
    "            list1.append(i)\n",
    "    return list1\n",
    "\n",
    "x = getNumber(\"In 1984 there were 13 instances of a protest with over 1000 people attending\")\n",
    "x\n",
    "            "
   ]
  },
  {
   "cell_type": "code",
   "execution_count": 39,
   "metadata": {
    "collapsed": true,
    "jupyter": {
     "outputs_hidden": true
    },
    "tags": []
   },
   "outputs": [
    {
     "data": {
      "text/plain": [
       "['I',\n",
       " 'n',\n",
       " ' ',\n",
       " '1',\n",
       " '9',\n",
       " '8',\n",
       " '4',\n",
       " ' ',\n",
       " 't',\n",
       " 'h',\n",
       " 'e',\n",
       " 'r',\n",
       " 'e',\n",
       " ' ',\n",
       " 'w',\n",
       " 'e',\n",
       " 'r',\n",
       " 'e',\n",
       " ' ',\n",
       " '1',\n",
       " '3',\n",
       " ' ',\n",
       " 'i',\n",
       " 'n',\n",
       " 's',\n",
       " 't',\n",
       " 'a',\n",
       " 'n',\n",
       " 'c',\n",
       " 'e',\n",
       " 's',\n",
       " ' ',\n",
       " 'o',\n",
       " 'f',\n",
       " ' ',\n",
       " 'a',\n",
       " ' ',\n",
       " 'p',\n",
       " 'r',\n",
       " 'o',\n",
       " 't',\n",
       " 'e',\n",
       " 's',\n",
       " 't',\n",
       " ' ',\n",
       " 'w',\n",
       " 'i',\n",
       " 't',\n",
       " 'h',\n",
       " ' ',\n",
       " 'o',\n",
       " 'v',\n",
       " 'e',\n",
       " 'r',\n",
       " ' ',\n",
       " '1',\n",
       " '0',\n",
       " '0',\n",
       " '0',\n",
       " ' ',\n",
       " 'p',\n",
       " 'e',\n",
       " 'o',\n",
       " 'p',\n",
       " 'l',\n",
       " 'e',\n",
       " ' ',\n",
       " 'a',\n",
       " 't',\n",
       " 't',\n",
       " 'e',\n",
       " 'n',\n",
       " 'd',\n",
       " 'i',\n",
       " 'n',\n",
       " 'g']"
      ]
     },
     "execution_count": 39,
     "metadata": {},
     "output_type": "execute_result"
    }
   ],
   "source": [
    "s1 = \"In 1984 there were 13 instances of a protest with over 1000 people attending\"\n",
    "[x for x in s1]"
   ]
  },
  {
   "cell_type": "code",
   "execution_count": 30,
   "metadata": {},
   "outputs": [
    {
     "data": {
      "text/plain": [
       "[('RAVI', 4), ('SANJEEV', 7), ('JOHN', 4)]"
      ]
     },
     "execution_count": 30,
     "metadata": {},
     "output_type": "execute_result"
    }
   ],
   "source": [
    "l1 = ['Ravi', 'Sanjeev', 'John']\n",
    "dictList = []\n",
    "l3 = []\n",
    "l4 = []\n",
    "def demo(l2):\n",
    "    for x in l2:\n",
    "        l3.append(x.upper())\n",
    "        l4.append(len(x))\n",
    "        #dictList[x.upper()] = len(x)\n",
    "\n",
    "demo(l1)        \n",
    "list(zip(l3,l4))\n"
   ]
  },
  {
   "cell_type": "code",
   "execution_count": 37,
   "metadata": {},
   "outputs": [
    {
     "data": {
      "text/plain": [
       "[('RAVI', 4), ('SANJEEV', 7), ('JOHN', 4)]"
      ]
     },
     "execution_count": 37,
     "metadata": {},
     "output_type": "execute_result"
    }
   ],
   "source": [
    "l1 = ['Ravi', 'Sanjeev', 'John']\n",
    "[(x.upper(),len(x)) for x in l1]"
   ]
  },
  {
   "cell_type": "code",
   "execution_count": 12,
   "metadata": {},
   "outputs": [
    {
     "name": "stdout",
     "output_type": "stream",
     "text": [
      "Menu Items\n",
      " bread: {'MPR': 45, 'Size': '300g', 'Qty': 2}\n",
      " butter: {'MPR': 150, 'Size': '150g', 'Qty': 5}\n",
      " milk: {'MRP': 43, 'Size': '500ml', 'Qty': 10}\n",
      " tomato: {'MRP': 20, 'Size': '500g', 'Qty': 40}\n",
      "********\n"
     ]
    },
    {
     "name": "stdin",
     "output_type": "stream",
     "text": [
      "Enter options from menu or q for quit\n",
      " bread\n"
     ]
    },
    {
     "name": "stdout",
     "output_type": "stream",
     "text": [
      "2\n",
      "you've purchsased : bread '{'MPR': 45, 'Size': '300g', 'Qty': 2}'\n",
      "Available qty for : bread '{'MPR': 45, 'Size': '300g', 'Qty': 1}'\n"
     ]
    },
    {
     "name": "stdin",
     "output_type": "stream",
     "text": [
      "Enter options from menu or q for quit\n",
      " bread\n"
     ]
    },
    {
     "name": "stdout",
     "output_type": "stream",
     "text": [
      "1\n",
      "you've purchsased : bread '{'MPR': 45, 'Size': '300g', 'Qty': 1}'\n",
      "Available qty for : bread '{'MPR': 45, 'Size': '300g', 'Qty': 0}'\n"
     ]
    },
    {
     "name": "stdin",
     "output_type": "stream",
     "text": [
      "Enter options from menu or q for quit\n",
      " q\n"
     ]
    },
    {
     "name": "stdout",
     "output_type": "stream",
     "text": [
      "file saved\n"
     ]
    }
   ],
   "source": [
    " \"\"\"\n",
    "Assume you are asked to build an inventory system of grocery items at a grocery store. \n",
    "\n",
    "Assuming your store can have some 20 unique items with unique ID's create \n",
    "a dictionary of Item ID vs item details such as MRP, Quantity, Size etc\n",
    "\n",
    "At any time we need to keep a count of the items in the store. \n",
    "\n",
    "Build a menu where you can show different items along with its details. Allow the user\n",
    "to purchase any item and place an order. Once the user places an order ensure that \n",
    "you have adequate \n",
    "quantity of items and if yes then create a bill of purchased items and write them \n",
    "to a file against an order ID. Provide him another chance to purchase the \n",
    "remaining items until he exits\n",
    "\"\"\"\n",
    "#dictStore = {'ItemName':}\n",
    "\n",
    "menu = {\n",
    "        'bread':{'MPR':45,'Size':'300g','Qty':2},\n",
    "        'butter':{'MPR':150,'Size':'150g','Qty':5},\n",
    "        'milk':{'MRP':43,'Size':'500ml','Qty':10},\n",
    "        'tomato':{'MRP':20,'Size':'500g','Qty':40}    \n",
    "    }\n",
    "def Menu(menu):\n",
    "    print(\"Menu Items\")\n",
    "    for id, items in menu.items():\n",
    "        print(f\" {id}: {items}\")\n",
    "        \n",
    "def selectOption(menu):\n",
    "    while True:\n",
    "        choice = input(\"Enter options from menu or q for quit\\n\")\n",
    "        if choice.isnumeric() :\n",
    "            print(\"invalid input, please try again\")\n",
    "        elif choice == 'q':\n",
    "            return menu\n",
    "            break\n",
    "        elif choice in ['milk', 'bread','butter','tomato']:\n",
    "            if menu[choice]['Qty'] >0:\n",
    "                print(menu[choice]['Qty'])\n",
    "                print(f\"you've purchsased : {choice} '{menu[choice]}'\")\n",
    "                menu[choice]['Qty'] -=  1\n",
    "                print(f\"Available qty for : {choice} '{menu[choice]}'\")\n",
    "            else:\n",
    "                print(\"Not available in inventory\")\n",
    "        else:\n",
    "            print(\"invalid\")\n",
    "        \n",
    "Menu(menu)\n",
    "print(\"********\")\n",
    "l3 = selectOption(menu)\n",
    "res = str(l3)\n",
    "with open('Day3/inventory.txt', 'a') as file:\n",
    "    file.write(res)\n",
    "    print(\"file saved\")\n"
   ]
  },
  {
   "cell_type": "code",
   "execution_count": 24,
   "metadata": {},
   "outputs": [
    {
     "name": "stdout",
     "output_type": "stream",
     "text": [
      "10\n"
     ]
    }
   ],
   "source": [
    "menu = {\n",
    "        'bread':{'MPR':45,'Size':'300g','Qty':2},\n",
    "        'butter':{'MPR':150,'Size':'150g','Qty':5},\n",
    "        'milk':{'MRP':43,'Size':'500ml','Qty':10},\n",
    "        'tomato':{'MRP':20,'Size':'500g','Qty':40}    \n",
    "    }\n",
    "print(menu['milk']['Qty'])\n",
    "        \n",
    "#Menu(menu)"
   ]
  }
 ],
 "metadata": {
  "kernelspec": {
   "display_name": "Python 3",
   "language": "python",
   "name": "python3"
  },
  "language_info": {
   "codemirror_mode": {
    "name": "ipython",
    "version": 3
   },
   "file_extension": ".py",
   "mimetype": "text/x-python",
   "name": "python",
   "nbconvert_exporter": "python",
   "pygments_lexer": "ipython3",
   "version": "3.7.6"
  }
 },
 "nbformat": 4,
 "nbformat_minor": 4
}
