{
 "cells": [
  {
   "cell_type": "code",
   "execution_count": 1,
   "metadata": {},
   "outputs": [],
   "source": [
    "list1 = [1, 4, -9, -5.2, 8.5, 10] \n",
    "list2 = [10,5,-3,2,0.5,1.3]\n",
    "list3 = ['+','*','-','*','/','+']"
   ]
  },
  {
   "cell_type": "code",
   "execution_count": 19,
   "metadata": {},
   "outputs": [
    {
     "data": {
      "text/plain": [
       "[(1, '+', 10),\n",
       " (4, '*', 5),\n",
       " (-9, '-', -3),\n",
       " (-5.2, '*', 2),\n",
       " (8.5, '/', 0.5),\n",
       " (10, '+', 1.3)]"
      ]
     },
     "execution_count": 19,
     "metadata": {},
     "output_type": "execute_result"
    }
   ],
   "source": [
    "outputlist = list(zip(list1,list3,list2))\n",
    "(outputlist)\n",
    "#list(zip(outputlist,list3))"
   ]
  },
  {
   "cell_type": "code",
   "execution_count": null,
   "metadata": {},
   "outputs": [],
   "source": [
    "for tst in outputlist:\n",
    "    "
   ]
  }
 ],
 "metadata": {
  "kernelspec": {
   "display_name": "Python 3",
   "language": "python",
   "name": "python3"
  },
  "language_info": {
   "codemirror_mode": {
    "name": "ipython",
    "version": 3
   },
   "file_extension": ".py",
   "mimetype": "text/x-python",
   "name": "python",
   "nbconvert_exporter": "python",
   "pygments_lexer": "ipython3",
   "version": "3.7.6"
  }
 },
 "nbformat": 4,
 "nbformat_minor": 4
}
